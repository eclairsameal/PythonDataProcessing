{
 "cells": [
  {
   "cell_type": "markdown",
   "id": "7413018b",
   "metadata": {},
   "source": [
    "Compare the speed of numpy array and python list"
   ]
  },
  {
   "cell_type": "code",
   "execution_count": 2,
   "id": "2f59622f",
   "metadata": {},
   "outputs": [],
   "source": [
    "import time\n",
    "import numpy as np"
   ]
  },
  {
   "cell_type": "code",
   "execution_count": 3,
   "id": "04ffd20c",
   "metadata": {},
   "outputs": [
    {
     "name": "stdout",
     "output_type": "stream",
     "text": [
      "Python list spend 0.154s\n",
      "Numpy array spend 0.014s\n"
     ]
    }
   ],
   "source": [
    "t0 = time.time()\n",
    "# python list\n",
    "l = list(range(100))\n",
    "for _ in range(10000):\n",
    "    for i in range(len(l)):\n",
    "        l[i] += 1\n",
    "\n",
    "t1 = time.time()\n",
    "# numpy array\n",
    "a = np.array(l)\n",
    "for _ in range(10000):\n",
    "    a += 1\n",
    "\n",
    "print(\"Python list spend {:.3f}s\".format(t1-t0))\n",
    "print(\"Numpy array spend {:.3f}s\".format(time.time()-t1))"
   ]
  },
  {
   "cell_type": "markdown",
   "id": "c863bcbf",
   "metadata": {},
   "source": [
    "Use map to replace Python’s native loop assignment"
   ]
  },
  {
   "cell_type": "code",
   "execution_count": 4,
   "id": "b62dda0c",
   "metadata": {},
   "outputs": [
    {
     "name": "stdout",
     "output_type": "stream",
     "text": [
      "Python list with map spend 0.108s\n",
      "Numpy array spend 0.013s\n"
     ]
    }
   ],
   "source": [
    "t0 = time.time()\n",
    "# python list\n",
    "l = list(range(100))\n",
    "for _ in range(10000):\n",
    "    l = list(map(lambda i: i+1, l))\n",
    "\n",
    "t1 = time.time()\n",
    "# numpy array\n",
    "a = np.array(l)\n",
    "for _ in range(10000):\n",
    "    a += 1\n",
    "\n",
    "print(\"Python list with map spend {:.3f}s\".format(t1-t0))\n",
    "print(\"Numpy array spend {:.3f}s\".format(time.time()-t1))"
   ]
  }
 ],
 "metadata": {
  "kernelspec": {
   "display_name": "Python 3 (ipykernel)",
   "language": "python",
   "name": "python3"
  },
  "language_info": {
   "codemirror_mode": {
    "name": "ipython",
    "version": 3
   },
   "file_extension": ".py",
   "mimetype": "text/x-python",
   "name": "python",
   "nbconvert_exporter": "python",
   "pygments_lexer": "ipython3",
   "version": "3.9.13"
  }
 },
 "nbformat": 4,
 "nbformat_minor": 5
}
